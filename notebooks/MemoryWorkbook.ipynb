{
 "cells": [
  {
   "cell_type": "markdown",
   "id": "8080eda4-d4ba-48aa-ada5-a343c40308e5",
   "metadata": {},
   "source": [
    "# Memory 🧠"
   ]
  },
  {
   "cell_type": "markdown",
   "id": "a1e060dd-7de1-4089-9dda-a394d16cde16",
   "metadata": {},
   "source": [
    "## Hello! 👋\n",
    "\n",
    "Thank you for getting this far, I really appreciate it!\n",
    "\n",
    "This workbook is a proof-of-concept to test the capabilities of interactive notebooks for the teaching of ARM Assembly Language. It is paired with a questionnaire that we invite you to fill out after your try out the notebook. In this notebook you will find a series of exercises that will help you understand some concepts on memory copying. Feel free to work through the exercises at your own pace, and do not feel obliged to finish them if you do not have time! \n",
    "\n",
    "If you are curious to know how this all works and all the cool stuff you can do with this notebook, you can go through the **Introduction** notebook you will find in the same folder as this notebook. I am also free to chat anytime you see me demonstrating at your lab with Prof. Dukes!\n",
    "\n",
    "This is part of Samuel Alarco's undergraduate final year project at Trinity College Dublin. I am very grateful for all the students trying out this tool, and I sincerely hope it is useful for your study of ARM assembly. Filling out the survey accompanying this exercise would really help me out for my project. If you have any concerns or doubt, do not hesitate in contacting me at alarcocs@tcd.ie .\n",
    "\n",
    "Enjoy exploring! 🤓"
   ]
  },
  {
   "cell_type": "markdown",
   "id": "51c05601-bbb0-4da5-8816-239814b3a0c7",
   "metadata": {
    "tags": []
   },
   "source": [
    "## Practice Exercise: Memory Copy 📝\n",
    "### Byte-by-byte\n",
    "Write a program that will copy 12 bytes from one address in memory to another address in memory using the `LDRB` and `STRB` instructions to load and store one byte at a time."
   ]
  },
  {
   "attachments": {
    "071fa089-fe92-4db0-8803-668cec8b9913.png": {
     "image/png": "[encoded data removed]"
    }
   },
   "cell_type": "markdown",
   "id": "e9ec7776-1483-4cdd-84ad-e00afe1a7d7a",
   "metadata": {
    "tags": []
   },
   "source": [
    "Configure the processor's memory by running the `__config__` block cell below: click it and press \"play\" ![image.png](attachment:071fa089-fe92-4db0-8803-668cec8b9913.png) on the toolbar above, or press *Shift + Enter* on your keyboard."
   ]
  },
  {
   "cell_type": "code",
   "execution_count": null,
   "id": "44055fd4-489d-44ff-a706-83e43230c6ca",
   "metadata": {
    "tags": [],
    "vscode": {
     "languageId": "any text"
    }
   },
   "outputs": [],
   "source": [
    "__config__\n",
    "memory:\n",
    "    items:\n",
    "        source:\n",
    "            type: byte\n",
    "            access: ro\n",
    "            content: [1, 2, 3, 4, 5, 6, 7, 8, 9, 10, 11, 12]\n",
    "        destination:\n",
    "            type: byte\n",
    "            access: rw\n",
    "            content: [0, 0, 0, 0, 0, 0, 0, 0, 0, 0, 0, 0]"
   ]
  },
  {
   "cell_type": "markdown",
   "id": "18caee06-8445-4ed6-9e19-2ae4cc9f50eb",
   "metadata": {},
   "source": [
    "Verify that the kernel is configured correctly by inspecting the memory contents. (The `memb` command shows memory organised as bytes.)"
   ]
  },
  {
   "cell_type": "code",
   "execution_count": null,
   "id": "832e2e89-dfb6-45e2-abab-76e4de9f77ff",
   "metadata": {
    "tags": [],
    "vscode": {
     "languageId": "any text"
    }
   },
   "outputs": [],
   "source": [
    ">>> show memb[source] as hex"
   ]
  },
  {
   "cell_type": "code",
   "execution_count": null,
   "id": "0a373e96-2a6a-4edd-b4ca-873a1d05a5fc",
   "metadata": {
    "tags": [],
    "vscode": {
     "languageId": "any text"
    }
   },
   "outputs": [],
   "source": [
    ">>> show memb[destination] as hex"
   ]
  },
  {
   "cell_type": "markdown",
   "id": "8ea881d1-df5a-4235-aca6-75907a9f9454",
   "metadata": {},
   "source": [
    "Now write your program to copy 12 bytes, one byte at a time, from the source address in `R1` to the destination address in `R0`."
   ]
  },
  {
   "cell_type": "code",
   "execution_count": null,
   "id": "b414198d-0a55-4aba-8500-d4c37134d4ac",
   "metadata": {
    "tags": [],
    "vscode": {
     "languageId": "any text"
    }
   },
   "outputs": [],
   "source": [
    "  LDR R1, =source\n",
    "  LDR R0, =destination\n",
    "  LDR R2, =12\n",
    "\n",
    "  @\n",
    "  @ Your program goes here\n",
    "  @"
   ]
  },
  {
   "cell_type": "markdown",
   "id": "7e658e2e-30ad-4f80-bbe9-998352ddc3f6",
   "metadata": {},
   "source": [
    "Check that your program has copied the contents of memory correctly."
   ]
  },
  {
   "cell_type": "code",
   "execution_count": null,
   "id": "63d008a1-d43c-456b-8c42-6308be37f8fd",
   "metadata": {
    "tags": [],
    "vscode": {
     "languageId": "any text"
    }
   },
   "outputs": [],
   "source": [
    ">>> show memb[destination] as hex"
   ]
  },
  {
   "attachments": {
    "68716eaa-34a6-4742-b82a-e12614928c09.png": {
     "image/png": "[encoded data removed]"
    }
   },
   "cell_type": "markdown",
   "id": "376b8d88-f9f0-4b70-82f9-13bd26b358c9",
   "metadata": {
    "tags": []
   },
   "source": [
    "### Word-by-word\n",
    "\n",
    "Remember, loading a byte takes just as long as loading a word (and similarly when storing). Let's rewrite our program to copy memory word-by-word instead of byte-by-byte.\n",
    "\n",
    "<!-- To restore the original memory contents, you can reset the processor by pressing the reset ![image.png](attachment:68716eaa-34a6-4742-b82a-e12614928c09.png) button on the toolbar. You must then re-run the __config__ block at the beginning of the notebook. -->\n",
    "\n",
    "First, reconfigure memory to set the destination back to zero ..."
   ]
  },
  {
   "cell_type": "code",
   "execution_count": null,
   "id": "09953130-00e1-406b-96ee-576f3ec8f3c4",
   "metadata": {
    "tags": [],
    "vscode": {
     "languageId": "any text"
    }
   },
   "outputs": [],
   "source": [
    "__config__\n",
    "memory:\n",
    "    items:\n",
    "        destination:\n",
    "            type: byte\n",
    "            access: rw\n",
    "            content: [0, 0, 0, 0, 0, 0, 0, 0, 0, 0, 0, 0]"
   ]
  },
  {
   "cell_type": "markdown",
   "id": "ae239734-e459-40d8-8593-b1616d1e7200",
   "metadata": {},
   "source": [
    "Now rewrite the program to copy 12 bytes, **one word at a time**, from the source address in `R1` to the destination address in `R0`."
   ]
  },
  {
   "cell_type": "code",
   "execution_count": null,
   "id": "f5d5b079-2f98-4689-98b5-89415aab2ddf",
   "metadata": {
    "tags": [],
    "vscode": {
     "languageId": "any text"
    }
   },
   "outputs": [],
   "source": [
    "  LDR R1, =source\n",
    "  LDR R0, =destination\n",
    "  LDR R2, =12\n",
    "\n",
    "  @\n",
    "  @ Your program goes here\n",
    "  @"
   ]
  },
  {
   "cell_type": "markdown",
   "id": "d7187dd1-2b72-46c5-aacc-524b33fef776",
   "metadata": {},
   "source": [
    "Check again that your program produces the correct result."
   ]
  },
  {
   "cell_type": "code",
   "execution_count": null,
   "id": "cc8eb2c0-1170-4d34-b5e1-f12b54299fff",
   "metadata": {
    "tags": [],
    "vscode": {
     "languageId": "any text"
    }
   },
   "outputs": [],
   "source": [
    ">>> show memb[destination] as hex"
   ]
  },
  {
   "attachments": {
    "26250520-4184-4662-a51b-e4e2fc8b4d18.png": {
     "image/png": "[encoded data removed]"
    }
   },
   "cell_type": "markdown",
   "id": "045f81b1-0ea7-41a4-98dd-9cc2bf17e756",
   "metadata": {
    "tags": []
   },
   "source": [
    "### Finally ...\n",
    "Modify your program once more to copy memory word-by-word instead of byte-by-byte but this time **copy just 10 bytes of memory instead of 12 bytes**. (The trick here is to copy **just** 10 bytes and no more!)\n",
    "\n",
    "<!-- To restore the original memory contents, you can processor the kernel by pressing the reset ![image.png](attachment:26250520-4184-4662-a51b-e4e2fc8b4d18.png) button on the toolbar. You must then re-run the __config__ block at the beginning of the notebook. -->\n",
    "\n",
    "Again, we should reconfigure memory to set the destination back to zero."
   ]
  },
  {
   "cell_type": "code",
   "execution_count": null,
   "id": "a3309d82-f36f-494f-a996-735e3917f42e",
   "metadata": {
    "tags": [],
    "vscode": {
     "languageId": "any text"
    }
   },
   "outputs": [],
   "source": [
    "__config__\n",
    "memory:\n",
    "    items:\n",
    "        destination:\n",
    "            type: byte\n",
    "            access: rw\n",
    "            content: [0, 0, 0, 0, 0, 0, 0, 0, 0, 0, 0, 0]"
   ]
  },
  {
   "cell_type": "code",
   "execution_count": null,
   "id": "1bc0b69f-3b67-4b0d-ad49-f4578d6a689e",
   "metadata": {
    "tags": [],
    "vscode": {
     "languageId": "any text"
    }
   },
   "outputs": [],
   "source": [
    "  LDR R1, =source\n",
    "  LDR R0, =destination\n",
    "  LDR R2, =10\n",
    "\n",
    "  @\n",
    "  @ Your program goes here\n",
    "  @"
   ]
  },
  {
   "cell_type": "markdown",
   "id": "2e8e3b28-a208-4f0b-9588-9d56c7db1c5c",
   "metadata": {
    "slideshow": {
     "slide_type": "slide"
    },
    "tags": []
   },
   "source": [
    "Check again that your program produces the correct result, copying just 10 bytes and leaving the 11th and 12th bytes unchanged."
   ]
  },
  {
   "cell_type": "code",
   "execution_count": null,
   "id": "561d06c0-f6aa-4165-a105-3babc88e9cd2",
   "metadata": {
    "tags": [],
    "vscode": {
     "languageId": "any text"
    }
   },
   "outputs": [],
   "source": [
    ">>> show memb[destination] as hex"
   ]
  },
  {
   "cell_type": "markdown",
   "id": "b91909e3-d52b-4628-88aa-cb395c9c8fd6",
   "metadata": {},
   "source": [
    "## Exploring LoaD Multiple (LDM) and STore Multiple (STM) \n",
    "\n",
    "The LoaD Multiple (LDM) and STore Multiple instructions are an efficient way to load multiple words from memory into a set of registers or store the contents of multiple registers to memory using a single instruction. The Assembly Language syntax for LDM and STM is a little unusual! In this part of the workbook we will experiment with different forms of the LDM and STM instructions."
   ]
  },
  {
   "cell_type": "markdown",
   "id": "7fbd318d-486a-4030-bbd7-ca69fd98e444",
   "metadata": {},
   "source": [
    "### LoaD Multiple with Increment After (LDMIA)\n",
    "LDMIA loads multiple registers with successive words from memory, starting from some address and moving \"forwards\" in memory. We can specify the list of registers we want to load either as a list of individual registers (`{R4, R5, R6, R7}`) or as a range of registers (`{R4-R7}`).\n",
    "\n",
    "First, set up memory with some recognisable word values."
   ]
  },
  {
   "cell_type": "code",
   "execution_count": null,
   "id": "848bf66f-0401-4898-9d9f-1fcb22a97195",
   "metadata": {
    "tags": [],
    "vscode": {
     "languageId": "any text"
    }
   },
   "outputs": [],
   "source": [
    "__config__\n",
    "memory:\n",
    "    items:\n",
    "        testdata:\n",
    "            type: word\n",
    "            access: rw\n",
    "            content: [1, 2, 3, 4, 5, 6, 7, 8, 9, 10]"
   ]
  },
  {
   "cell_type": "markdown",
   "id": "2a0d77c8-eaba-4d9c-a8de-f58f3bc07648",
   "metadata": {},
   "source": [
    "Use an LDMIA instruction to load registers R4 ... R7 with the first 4 words from the above sequence in memory. Register R0 has been initialised for you with the address of the start of the sequence."
   ]
  },
  {
   "cell_type": "code",
   "execution_count": null,
   "id": "29b816e8-500e-4d25-985e-7f1cb49e212b",
   "metadata": {
    "tags": [],
    "vscode": {
     "languageId": "any text"
    }
   },
   "outputs": [],
   "source": [
    "  LDR   R0, =testdata\n",
    "  \n",
    "  @ Write your LDMIA instruction here"
   ]
  },
  {
   "cell_type": "markdown",
   "id": "f5cdc6f9-62c8-421d-bcdc-b3123185e626",
   "metadata": {},
   "source": [
    "Confirm that the registers contain the values that you expect."
   ]
  },
  {
   "cell_type": "code",
   "execution_count": null,
   "id": "89fff889-10e8-4ac0-8cf0-7c1e126e0e34",
   "metadata": {
    "tags": [],
    "vscode": {
     "languageId": "any text"
    }
   },
   "outputs": [],
   "source": [
    ">>> show registers[4-7] as hex"
   ]
  },
  {
   "cell_type": "markdown",
   "id": "239e9f0a-ae6f-447f-9f93-7a7c2a24d11d",
   "metadata": {},
   "source": [
    "### LoaD Multiple with Decrement Before (LDMDB)\n",
    "\n",
    "LoaD Multiple with Increment After (LDMIA) loads a sequnce of words from memory moving \"forwards\" from the address we specify. Similarly, LoaD Multiple with Decrement Before (LDMDB) loads a sequence of words from memory moving \"backwards\" in memory. LDMDB also starts with the word *before* the address we specify (decrement *before*).\n",
    "\n",
    "Use an LDMDB instruction to load registers R8 ... R11 with the 4 words from the above sequence, working backwards, starting with the word just before the 5th word. Again, R0 has been innitialsed for you with the address of the fifth word."
   ]
  },
  {
   "cell_type": "code",
   "execution_count": null,
   "id": "44acfbfe-ab64-4101-87fa-92b6f7475953",
   "metadata": {
    "tags": [],
    "vscode": {
     "languageId": "any text"
    }
   },
   "outputs": [],
   "source": [
    "  LDR   R0, =testdata @ set to address of 1st word\n",
    "  ADD   R0, R0, #16   @ modify to address of 5th word\n",
    "  \n",
    "  @ Write your LDMIA instruction here"
   ]
  },
  {
   "cell_type": "markdown",
   "id": "3cfde1dc-7508-4b48-9d57-e89ab0c0d1ae",
   "metadata": {},
   "source": [
    "Confirm again that the registers contain the values that you expect."
   ]
  },
  {
   "cell_type": "code",
   "execution_count": null,
   "id": "b1cb199a",
   "metadata": {
    "tags": [],
    "vscode": {
     "languageId": "any text"
    }
   },
   "outputs": [],
   "source": [
    ">>> show registers[8-11] as hex"
   ]
  },
  {
   "cell_type": "markdown",
   "id": "904a8014-c0d7-4988-8664-5261d0708f71",
   "metadata": {},
   "source": [
    "It may come as a surprise that R8 contains 0x1, R9 contains 0x2, and so on. You may have been expecting the registers to be loaded in the reverse order by the LDMDB instruction. However, remember that the LDM and STM instructions always operate on the principle that the *lowest numbered register corresponds to the lowest address*.\n",
    "\n",
    "In this case, the value 0x4 is at the highest address in memory so it was loaded into the highest numbered register, R11. The value 0x3 is at the lest highest address so it was loaded into the next highest numbered register, R10."
   ]
  },
  {
   "cell_type": "markdown",
   "id": "37b749bc-e329-4755-a02e-4367b4d8e54d",
   "metadata": {},
   "source": [
    "### STore Multiple (STMIA and STMDB)\n",
    "\n",
    "STore Multiple works in the same way. Practice using STM by writing a short program that will copy the four words from the start of the above sequence to the end of the sequence. Register R0 has again been initialised with the address of the first word in the sequence."
   ]
  },
  {
   "cell_type": "code",
   "execution_count": null,
   "id": "dd5104b9-db13-42f9-838f-b36c3c1367a6",
   "metadata": {
    "tags": [],
    "vscode": {
     "languageId": "any text"
    }
   },
   "outputs": [],
   "source": [
    "  LDR   R0, =testdata\n",
    "  \n",
    "  @\n",
    "  @ Your program goes here\n",
    "  @"
   ]
  },
  {
   "cell_type": "markdown",
   "id": "fe550d51-e2c2-4b37-a4a0-b96939c5dd95",
   "metadata": {},
   "source": [
    "Confirm that the four words have been coped correctly. You should see that the sequence 1, 2, 3, 4 has been copied to the of the sequence in memory. (i.e. The new contents of memory shoudl be `1, 2, 3, 4, 5, 6, 1, 2, 3, 4`)"
   ]
  },
  {
   "cell_type": "code",
   "execution_count": null,
   "id": "14cbcec9-5011-483a-a563-28aa4046a506",
   "metadata": {
    "tags": [],
    "vscode": {
     "languageId": "any text"
    }
   },
   "outputs": [],
   "source": [
    ">>> show mem[testdata] as hex"
   ]
  },
  {
   "cell_type": "markdown",
   "id": "64c36ce1-5555-4251-9d17-9a611cf6b828",
   "metadata": {
    "tags": []
   },
   "source": [
    "### LDM and STM with pre-/post-indexing\n",
    "\n",
    "The LDM and STM instructions above did not modify the base address register. Suppose we were to write a program that used STMIA to quickly set 16 words in memory to the value 0x12345678."
   ]
  },
  {
   "cell_type": "code",
   "execution_count": null,
   "id": "da3f9acd-85ce-49da-9996-e9325afded56",
   "metadata": {
    "vscode": {
     "languageId": "any text"
    }
   },
   "outputs": [],
   "source": [
    "__config__\n",
    "memory:\n",
    "    items:\n",
    "        destination:\n",
    "            type: word\n",
    "            access: rw\n",
    "            size: 16\n",
    "            content: [0, 0, 0, 0, 0, 0, 0, 0, 0, 0, 0, 0, 0, 0, 0, 0]"
   ]
  },
  {
   "cell_type": "markdown",
   "id": "245f332b-3d4b-4a7b-b27d-32691440d40a",
   "metadata": {},
   "source": [
    "The program below uses STMIA to store 0x12345678 to four consecutive words in memory at a time. The destination address in R0 is incremented by 16 after each `STMIA` (4 words = 16 bytes)."
   ]
  },
  {
   "cell_type": "code",
   "execution_count": null,
   "id": "e9fc8c4e-a71f-4e61-b957-d32b1c6d0daa",
   "metadata": {
    "tags": []
   },
   "outputs": [],
   "source": [
    "  LDR R0, =destination\n",
    "\n",
    "  LDR R8, =0x12345678\n",
    "  LDR R9, =0x12345678\n",
    "  LDR R10, =0x12345678\n",
    "  LDR R11, =0x12345678\n",
    "\n",
    "  STMIA R0, {R8, R9, R10, R11}\n",
    "  ADD   R0, R0, #16\n",
    "  STMIA R0, {R8, R9, R10, R11}\n",
    "  ADD   R0, R0, #16\n",
    "  STMIA R0, {R8, R9, R10, R11}\n",
    "  ADD   R0, R0, #16\n",
    "  STMIA R0, {R8, R9, R10, R11}"
   ]
  },
  {
   "cell_type": "code",
   "execution_count": null,
   "id": "25b71b1f-9912-4ae3-b7f4-c7261c9980a4",
   "metadata": {
    "tags": []
   },
   "outputs": [],
   "source": [
    ">>> show mem[destination] as hex"
   ]
  },
  {
   "cell_type": "markdown",
   "id": "b75d2d80-11e4-4a93-9dac-b82b2c058284",
   "metadata": {},
   "source": [
    "We can write a shorter program to perform the same task by using the post-increment mode of operation (`R0!`). This mode of operation increments the base address register by the number of bytes stored by the STMIA instruction.\n",
    "\n",
    "Let's also change the value that we fill memory with so we can check that it works!"
   ]
  },
  {
   "cell_type": "code",
   "execution_count": null,
   "id": "c7e5a9bb-f24f-4065-a60e-cecbef8bf21d",
   "metadata": {
    "tags": []
   },
   "outputs": [],
   "source": [
    "  LDR R0, =destination\n",
    "\n",
    "  LDR R8, =0x0A0A0A0A\n",
    "  LDR R9, =0x0A0A0A0A\n",
    "  LDR R10, =0x0A0A0A0A\n",
    "  LDR R11, =0x0A0A0A0A\n",
    "\n",
    "  STMIA R0!, {R8, R9, R10, R11}\n",
    "  STMIA R0!, {R8, R9, R10, R11}\n",
    "  STMIA R0!, {R8, R9, R10, R11}\n",
    "  STMIA R0!, {R8, R9, R10, R11}\n",
    "  \n",
    ">>> show mem[destination] as hex"
   ]
  }
 ],
 "metadata": {
  "kernelspec": {
   "display_name": "ARM",
   "language": "ARM Assembly",
   "name": "arm"
  },
  "language_info": {
   "file_extension": ".txt",
   "mimetype": "text/html",
   "name": "Any text"
  }
 },
 "nbformat": 4,
 "nbformat_minor": 5
}
