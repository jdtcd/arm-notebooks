{
 "cells": [
  {
   "cell_type": "markdown",
   "id": "8080eda4-d4ba-48aa-ada5-a343c40308e5",
   "metadata": {},
   "source": [
    "# Memory Copying 🧠"
   ]
  },
  {
   "cell_type": "markdown",
   "id": "a1e060dd-7de1-4089-9dda-a394d16cde16",
   "metadata": {},
   "source": [
    "## Hello! 👋\n",
    "\n",
    "Thank you for getting this far, I really appreciate it!\n",
    "\n",
    "This workbook is a proof-of-concept to test the capabilities of interactive notebooks for the teaching of ARM Assembly Language. It is paired with a questionnaire that we invite you to fill out after your try out the notebook. In this notebook you will find a series of exercises that will help you understand some concepts on memory copying. Feel free to work through the exercises at your own pace, and do not feel obliged to finish them if you do not have time! \n",
    "\n",
    "If you are curious to know how this all works and all the cool stuff you can do with this notebook, you can go through the **Introduction** notebook you will find in the same folder as this notebook. I am also free to chat anytime you see me demonstrating at your lab with Prof. Dukes!\n",
    "\n",
    "This is part of Samuel Alarco's undergraduate final year project at Trinity College Dublin. I am very grateful for all the students trying out this tool, and I sincerely hope it is useful for your study of ARM assembly. Filling out the survey accompanying this exercise would really help me out for my project. If you have any concerns or doubt, do not hesitate in contacting me at alarcocs@tcd.ie .\n",
    "\n",
    "Enjoy exploring! 🤓"
   ]
  },
  {
   "cell_type": "markdown",
   "id": "51c05601-bbb0-4da5-8816-239814b3a0c7",
   "metadata": {
    "tags": []
   },
   "source": [
    "## Practice Exercise: Simple Memory Copy 📝\n",
    "Write a program that will copy 12 bytes from one address in memory to another address in memory using the LDRB and STRB instructions."
   ]
  },
  {
   "attachments": {
    "071fa089-fe92-4db0-8803-668cec8b9913.png": {
     "image/png": "[encoded data removed]"
    }
   },
   "cell_type": "markdown",
   "id": "e9ec7776-1483-4cdd-84ad-e00afe1a7d7a",
   "metadata": {
    "tags": []
   },
   "source": [
    "Configure the processor's memory by running the __config__ block cell below: click it and press \"play\" ![image.png](attachment:071fa089-fe92-4db0-8803-668cec8b9913.png) on the toolbar above, or press *Shift + Enter* on your keyboard."
   ]
  },
  {
   "cell_type": "code",
   "execution_count": 2,
   "id": "44055fd4-489d-44ff-a706-83e43230c6ca",
   "metadata": {
    "tags": []
   },
   "outputs": [
    {
     "data": {
      "text/html": [
       "<p>-- kernel configured successfully --</p>"
      ]
     },
     "metadata": {},
     "output_type": "display_data"
    }
   ],
   "source": [
    "__config__\n",
    "memory:\n",
    "    items:\n",
    "        source:\n",
    "            type: byte\n",
    "            access: ro\n",
    "            content: [1, 2, 3, 4, 5, 6, 7, 8, 9, 10, 11, 12]\n",
    "        destination:\n",
    "            type: byte\n",
    "            access: rw\n",
    "            content: [0, 0, 0, 0, 0, 0, 0, 0, 0, 0, 0, 0]"
   ]
  },
  {
   "cell_type": "markdown",
   "id": "18caee06-8445-4ed6-9e19-2ae4cc9f50eb",
   "metadata": {},
   "source": [
    "Verify that the kernel is configured correctly by inspecting the memory contents:"
   ]
  },
  {
   "cell_type": "code",
   "execution_count": 3,
   "id": "832e2e89-dfb6-45e2-abab-76e4de9f77ff",
   "metadata": {
    "tags": []
   },
   "outputs": [
    {
     "data": {
      "text/html": [
       "\n",
       "<h4>Memory:</h4>\n",
       "<table>\n",
       "<tr>\n",
       "    <th>Address</th>\n",
       "    <th>Content</th>\n",
       "</tr>\n",
       "<tr\n",
       "\n",
       "    <tr>\n",
       "        <td>0x00580000</td>\n",
       "        \n",
       "        <td>0x01</td>\n",
       "        \n",
       "        <td>0x02</td>\n",
       "        \n",
       "        <td>0x03</td>\n",
       "        \n",
       "        <td>0x04</td>\n",
       "        \n",
       "    </tr>\n",
       "\n",
       "    <tr>\n",
       "        <td>0x00580004</td>\n",
       "        \n",
       "        <td>0x05</td>\n",
       "        \n",
       "        <td>0x06</td>\n",
       "        \n",
       "        <td>0x07</td>\n",
       "        \n",
       "        <td>0x08</td>\n",
       "        \n",
       "    </tr>\n",
       "\n",
       "    <tr>\n",
       "        <td>0x00580008</td>\n",
       "        \n",
       "        <td>0x09</td>\n",
       "        \n",
       "        <td>0x0a</td>\n",
       "        \n",
       "        <td>0x0b</td>\n",
       "        \n",
       "        <td>0x0c</td>\n",
       "        \n",
       "    </tr>\n",
       "\n",
       "</table>"
      ]
     },
     "metadata": {},
     "output_type": "display_data"
    }
   ],
   "source": [
    ">>> show memb[source] as hex"
   ]
  },
  {
   "cell_type": "code",
   "execution_count": 4,
   "id": "0a373e96-2a6a-4edd-b4ca-873a1d05a5fc",
   "metadata": {
    "tags": []
   },
   "outputs": [
    {
     "data": {
      "text/html": [
       "\n",
       "<h4>Memory:</h4>\n",
       "<table>\n",
       "<tr>\n",
       "    <th>Address</th>\n",
       "    <th>Content</th>\n",
       "</tr>\n",
       "<tr\n",
       "\n",
       "    <tr>\n",
       "        <td>0x0057f000</td>\n",
       "        \n",
       "        <td>0x00</td>\n",
       "        \n",
       "        <td>0x00</td>\n",
       "        \n",
       "        <td>0x00</td>\n",
       "        \n",
       "        <td>0x00</td>\n",
       "        \n",
       "    </tr>\n",
       "\n",
       "    <tr>\n",
       "        <td>0x0057f004</td>\n",
       "        \n",
       "        <td>0x00</td>\n",
       "        \n",
       "        <td>0x00</td>\n",
       "        \n",
       "        <td>0x00</td>\n",
       "        \n",
       "        <td>0x00</td>\n",
       "        \n",
       "    </tr>\n",
       "\n",
       "    <tr>\n",
       "        <td>0x0057f008</td>\n",
       "        \n",
       "        <td>0x00</td>\n",
       "        \n",
       "        <td>0x00</td>\n",
       "        \n",
       "        <td>0x00</td>\n",
       "        \n",
       "        <td>0x00</td>\n",
       "        \n",
       "    </tr>\n",
       "\n",
       "</table>"
      ]
     },
     "metadata": {},
     "output_type": "display_data"
    }
   ],
   "source": [
    ">>> show memb[destination] as hex"
   ]
  },
  {
   "cell_type": "markdown",
   "id": "8ea881d1-df5a-4235-aca6-75907a9f9454",
   "metadata": {},
   "source": [
    "Now write your program to copy 12 bytes from the source address in R1 to the destination address in R0."
   ]
  },
  {
   "cell_type": "code",
   "execution_count": 6,
   "id": "b414198d-0a55-4aba-8500-d4c37134d4ac",
   "metadata": {},
   "outputs": [],
   "source": [
    "LDR R1, =source\n",
    "LDR R0, =destination\n",
    "LDR R2, =12\n",
    "@\n",
    "@ write your program here\n",
    "@"
   ]
  },
  {
   "cell_type": "markdown",
   "id": "7e658e2e-30ad-4f80-bbe9-998352ddc3f6",
   "metadata": {},
   "source": [
    "Check that your program has copied the contents of memory correctly."
   ]
  },
  {
   "cell_type": "code",
   "execution_count": 5,
   "id": "63d008a1-d43c-456b-8c42-6308be37f8fd",
   "metadata": {
    "tags": []
   },
   "outputs": [
    {
     "data": {
      "text/html": [
       "\n",
       "<h4>Memory:</h4>\n",
       "<table>\n",
       "<tr>\n",
       "    <th>Address</th>\n",
       "    <th>Content</th>\n",
       "</tr>\n",
       "<tr\n",
       "\n",
       "    <tr>\n",
       "        <td>0x0057f000</td>\n",
       "        \n",
       "        <td>0x00</td>\n",
       "        \n",
       "        <td>0x00</td>\n",
       "        \n",
       "        <td>0x00</td>\n",
       "        \n",
       "        <td>0x00</td>\n",
       "        \n",
       "    </tr>\n",
       "\n",
       "    <tr>\n",
       "        <td>0x0057f004</td>\n",
       "        \n",
       "        <td>0x00</td>\n",
       "        \n",
       "        <td>0x00</td>\n",
       "        \n",
       "        <td>0x00</td>\n",
       "        \n",
       "        <td>0x00</td>\n",
       "        \n",
       "    </tr>\n",
       "\n",
       "    <tr>\n",
       "        <td>0x0057f008</td>\n",
       "        \n",
       "        <td>0x00</td>\n",
       "        \n",
       "        <td>0x00</td>\n",
       "        \n",
       "        <td>0x00</td>\n",
       "        \n",
       "        <td>0x00</td>\n",
       "        \n",
       "    </tr>\n",
       "\n",
       "</table>"
      ]
     },
     "metadata": {},
     "output_type": "display_data"
    }
   ],
   "source": [
    ">>> show memb[destination] as hex"
   ]
  },
  {
   "cell_type": "markdown",
   "id": "74e496a2-5c28-4f1f-ba38-b444275d355b",
   "metadata": {},
   "source": [
    "Check that your program has copied the contents of memory correctly."
   ]
  },
  {
   "attachments": {
    "68716eaa-34a6-4742-b82a-e12614928c09.png": {
     "image/png": "[encoded data removed]"
    }
   },
   "cell_type": "markdown",
   "id": "376b8d88-f9f0-4b70-82f9-13bd26b358c9",
   "metadata": {
    "tags": []
   },
   "source": [
    "Now modify your program to copy memory word-by-word instead of byte-by-byte.\n",
    "\n",
    "To restore the original memory contents, you can reset the processor by pressing the reset ![image.png](attachment:68716eaa-34a6-4742-b82a-e12614928c09.png) button on the toolbar. You must then re-run the __config__ block at the beginning of the notebook."
   ]
  },
  {
   "cell_type": "code",
   "execution_count": 6,
   "id": "f5d5b079-2f98-4689-98b5-89415aab2ddf",
   "metadata": {},
   "outputs": [],
   "source": [
    "LDR R1, =source\n",
    "LDR R0, =destination\n",
    "LDR R2, =12\n",
    "@\n",
    "@ write your program here\n",
    "@"
   ]
  },
  {
   "cell_type": "markdown",
   "id": "d7187dd1-2b72-46c5-aacc-524b33fef776",
   "metadata": {},
   "source": [
    "... and check again that your program produces the correct result."
   ]
  },
  {
   "cell_type": "code",
   "execution_count": 13,
   "id": "cc8eb2c0-1170-4d34-b5e1-f12b54299fff",
   "metadata": {},
   "outputs": [
    {
     "data": {
      "text/html": [
       "\n",
       "<h4>Memory:</h4>\n",
       "<table>\n",
       "<tr>\n",
       "    <th>Address</th>\n",
       "    <th>Content</th>\n",
       "</tr>\n",
       "<tr\n",
       "\n",
       "    <tr>\n",
       "        <td>0x57f00c</td>\n",
       "        \n",
       "        <td>0x0</td>\n",
       "        \n",
       "        <td>0x0</td>\n",
       "        \n",
       "        <td>0x0</td>\n",
       "        \n",
       "        <td>0x0</td>\n",
       "        \n",
       "    </tr>\n",
       "\n",
       "    <tr>\n",
       "        <td>0x57f010</td>\n",
       "        \n",
       "        <td>0x0</td>\n",
       "        \n",
       "        <td>0x0</td>\n",
       "        \n",
       "        <td>0x0</td>\n",
       "        \n",
       "        <td>0x0</td>\n",
       "        \n",
       "    </tr>\n",
       "\n",
       "    <tr>\n",
       "        <td>0x57f014</td>\n",
       "        \n",
       "        <td>0x0</td>\n",
       "        \n",
       "        <td>0x0</td>\n",
       "        \n",
       "        <td>0x0</td>\n",
       "        \n",
       "        <td>0x0</td>\n",
       "        \n",
       "    </tr>\n",
       "\n",
       "</table>"
      ]
     },
     "metadata": {},
     "output_type": "display_data"
    }
   ],
   "source": [
    ">>> show memb[destination] as hex"
   ]
  },
  {
   "attachments": {
    "26250520-4184-4662-a51b-e4e2fc8b4d18.png": {
     "image/png": "[encoded data removed]"
    }
   },
   "cell_type": "markdown",
   "id": "045f81b1-0ea7-41a4-98dd-9cc2bf17e756",
   "metadata": {
    "tags": []
   },
   "source": [
    "Modify your program again to copy memory word-by-word instead of byte-by-byte but this time copy just 10 bytes of memory instead of 12 bytes.\n",
    "\n",
    "To restore the original memory contents, you can processor the kernel by pressing the reset ![image.png](attachment:26250520-4184-4662-a51b-e4e2fc8b4d18.png) button on the toolbar. You must then re-run the __config__ block at the beginning of the notebook."
   ]
  },
  {
   "cell_type": "code",
   "execution_count": 14,
   "id": "1bc0b69f-3b67-4b0d-ad49-f4578d6a689e",
   "metadata": {},
   "outputs": [],
   "source": [
    "LDR R1, =source\n",
    "LDR R0, =destination\n",
    "LDR R2, =10\n",
    "@\n",
    "@ write your program here\n",
    "@"
   ]
  },
  {
   "cell_type": "markdown",
   "id": "2e8e3b28-a208-4f0b-9588-9d56c7db1c5c",
   "metadata": {},
   "source": [
    "... and check again that your program produces the correct result, copying just 10 bytes and leaving the 11th and 12 bytes unchanged."
   ]
  },
  {
   "cell_type": "code",
   "execution_count": 13,
   "id": "561d06c0-f6aa-4165-a105-3babc88e9cd2",
   "metadata": {},
   "outputs": [
    {
     "data": {
      "text/html": [
       "\n",
       "<h4>Memory:</h4>\n",
       "<table>\n",
       "<tr>\n",
       "    <th>Address</th>\n",
       "    <th>Content</th>\n",
       "</tr>\n",
       "<tr\n",
       "\n",
       "    <tr>\n",
       "        <td>0x57f00c</td>\n",
       "        \n",
       "        <td>0x0</td>\n",
       "        \n",
       "        <td>0x0</td>\n",
       "        \n",
       "        <td>0x0</td>\n",
       "        \n",
       "        <td>0x0</td>\n",
       "        \n",
       "    </tr>\n",
       "\n",
       "    <tr>\n",
       "        <td>0x57f010</td>\n",
       "        \n",
       "        <td>0x0</td>\n",
       "        \n",
       "        <td>0x0</td>\n",
       "        \n",
       "        <td>0x0</td>\n",
       "        \n",
       "        <td>0x0</td>\n",
       "        \n",
       "    </tr>\n",
       "\n",
       "    <tr>\n",
       "        <td>0x57f014</td>\n",
       "        \n",
       "        <td>0x0</td>\n",
       "        \n",
       "        <td>0x0</td>\n",
       "        \n",
       "        <td>0x0</td>\n",
       "        \n",
       "        <td>0x0</td>\n",
       "        \n",
       "    </tr>\n",
       "\n",
       "</table>"
      ]
     },
     "metadata": {},
     "output_type": "display_data"
    }
   ],
   "source": [
    ">>> show memb[destination] as hex"
   ]
  },
  {
   "cell_type": "markdown",
   "id": "37c93423-a543-4fe4-8fc4-5647121dfbaa",
   "metadata": {},
   "source": [
    "# LDM and STM 🤷‍♀️"
   ]
  },
  {
   "cell_type": "markdown",
   "id": "1ffef6cf-a104-4246-9534-e552b2092736",
   "metadata": {},
   "source": [
    "Use the LDM and STM instructions to copy 12 bytes of memory from the address in R1 to the address in R0."
   ]
  },
  {
   "cell_type": "code",
   "execution_count": null,
   "id": "45c643dd-5d7a-424b-b060-f157e8733491",
   "metadata": {},
   "outputs": [],
   "source": []
  }
 ],
 "metadata": {
  "kernelspec": {
   "display_name": "ARM",
   "language": "ARM Assembly",
   "name": "arm"
  },
  "language_info": {
   "file_extension": ".txt",
   "mimetype": "text/html",
   "name": "Any text"
  }
 },
 "nbformat": 4,
 "nbformat_minor": 5
}
