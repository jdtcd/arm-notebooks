{
 "cells": [
  {
   "cell_type": "markdown",
   "id": "087e2ede-1c52-4f3a-a2a0-9a580270e453",
   "metadata": {},
   "source": [
    "# ARM Assembly Language in a Notebook\n",
    "\n",
    "## Introduction 👋\n",
    "\n",
    "Welcome to the brand new ARM Assembly Language Notebook. This notebook is being developed as part of Samuel Alarco's final year project for his undergraduate degree in Computer Science at Trinity College Dublin. We hope for it to be a useful tool in your journey to understand ARM Assembly language and the ARM processor. \n",
    "\n",
    "If you have feedback, problems, or feature suggestions, feel free to write to Samuel [here](mailto:alarcocs@tcd.ie).\n",
    "\n",
    "Enjoy!"
   ]
  },
  {
   "cell_type": "markdown",
   "id": "032fc534-b052-477d-b905-aed4400fc674",
   "metadata": {
    "jp-MarkdownHeadingCollapsed": true,
    "tags": []
   },
   "source": [
    "## Simple Mechanics ⚙️\n",
    "\n",
    "This notebook is emulating an ARM Cortex M3 processor in the backend. The processor runs the code in the boxes, and updates its state (registers, flags, memory contents etc). You can then inspect its state using several visualizations. Let's give it a try!\n",
    "\n",
    "To run code boxes, press *Shift + Enter*."
   ]
  },
  {
   "cell_type": "code",
   "execution_count": 1,
   "id": "d5d92ca3-e66c-4be6-bdc9-86183f09a152",
   "metadata": {},
   "outputs": [],
   "source": [
    "mov r0, #1"
   ]
  },
  {
   "cell_type": "markdown",
   "id": "c7e3244d-5e30-4043-9690-f375596587fd",
   "metadata": {
    "tags": []
   },
   "source": [
    "We have placed the immediate value *1* on **register 0**. How can we inspect the value of registers to make sure this worked? For this we use *show* commands"
   ]
  },
  {
   "cell_type": "markdown",
   "id": "29bc446b-adf2-4903-a2d3-d4c4465b212b",
   "metadata": {
    "jp-MarkdownHeadingCollapsed": true,
    "tags": []
   },
   "source": [
    "### Show Commands 👀"
   ]
  },
  {
   "cell_type": "markdown",
   "id": "0dc57f6c-be87-4b66-a550-a56181a086b3",
   "metadata": {},
   "source": [
    "*Show* commands are not part of the ARM Assembly language. They are part of a collection of commands that help us inspect the state of the processor and execute actions outside of ARM's capabilities. These *meta-commands* start with >>> to differentiate them from regular ARM Assembly language commands.\n",
    "\n",
    "Let's inspect the contents of register 0"
   ]
  },
  {
   "cell_type": "code",
   "execution_count": 2,
   "id": "550be0a2-fe06-4f74-95c3-a6e5af9eb77d",
   "metadata": {},
   "outputs": [
    {
     "data": {
      "text/html": [
       "\n",
       "<style>\n",
       "    table { border-collapse: collapse; }\n",
       "    td {\n",
       "        border-bottom: solid 1px black !important;\n",
       "        border-top: solid 1px black !important;  \n",
       "    }\n",
       "</style>\n",
       "<h4>Registers:</h4>\n",
       "<table>\n",
       "    \n",
       "    <tr>\n",
       "        <td class=\"t-cell\"><strong>r0:</strong></td>\n",
       "        <td class=\"reg-val\">1</td>\n",
       "    </tr>\n",
       "    \n",
       "</table>"
      ]
     },
     "metadata": {},
     "output_type": "display_data"
    }
   ],
   "source": [
    ">>> show registers[0]"
   ]
  },
  {
   "cell_type": "markdown",
   "id": "727055a3-0b35-4b24-8fcd-5e8a3300d3e0",
   "metadata": {},
   "source": [
    "*Show* commands are really powerful. We can use them to learn how our programs modify the state of the processor in many ways. \n",
    "\n",
    "For example:"
   ]
  },
  {
   "cell_type": "markdown",
   "id": "37dc351d-04a6-418c-907a-8bbc6922fcd6",
   "metadata": {},
   "source": [
    "Running ```>>> show registers``` will display the default 12 registers."
   ]
  },
  {
   "cell_type": "code",
   "execution_count": 3,
   "id": "6fc04347-f27f-4524-b467-a5d82bb6fe44",
   "metadata": {},
   "outputs": [
    {
     "data": {
      "text/html": [
       "\n",
       "<style>\n",
       "    table { border-collapse: collapse; }\n",
       "    td {\n",
       "        border-bottom: solid 1px black !important;\n",
       "        border-top: solid 1px black !important;  \n",
       "    }\n",
       "</style>\n",
       "<h4>Registers:</h4>\n",
       "<table>\n",
       "    \n",
       "    <tr>\n",
       "        <td class=\"t-cell\"><strong>r0:</strong></td>\n",
       "        <td class=\"reg-val\">1</td>\n",
       "    </tr>\n",
       "    \n",
       "    <tr>\n",
       "        <td class=\"t-cell\"><strong>r1:</strong></td>\n",
       "        <td class=\"reg-val\">0</td>\n",
       "    </tr>\n",
       "    \n",
       "    <tr>\n",
       "        <td class=\"t-cell\"><strong>r2:</strong></td>\n",
       "        <td class=\"reg-val\">0</td>\n",
       "    </tr>\n",
       "    \n",
       "    <tr>\n",
       "        <td class=\"t-cell\"><strong>r3:</strong></td>\n",
       "        <td class=\"reg-val\">0</td>\n",
       "    </tr>\n",
       "    \n",
       "    <tr>\n",
       "        <td class=\"t-cell\"><strong>r4:</strong></td>\n",
       "        <td class=\"reg-val\">0</td>\n",
       "    </tr>\n",
       "    \n",
       "    <tr>\n",
       "        <td class=\"t-cell\"><strong>r5:</strong></td>\n",
       "        <td class=\"reg-val\">0</td>\n",
       "    </tr>\n",
       "    \n",
       "    <tr>\n",
       "        <td class=\"t-cell\"><strong>r6:</strong></td>\n",
       "        <td class=\"reg-val\">0</td>\n",
       "    </tr>\n",
       "    \n",
       "    <tr>\n",
       "        <td class=\"t-cell\"><strong>r7:</strong></td>\n",
       "        <td class=\"reg-val\">0</td>\n",
       "    </tr>\n",
       "    \n",
       "    <tr>\n",
       "        <td class=\"t-cell\"><strong>r8:</strong></td>\n",
       "        <td class=\"reg-val\">0</td>\n",
       "    </tr>\n",
       "    \n",
       "    <tr>\n",
       "        <td class=\"t-cell\"><strong>r9:</strong></td>\n",
       "        <td class=\"reg-val\">0</td>\n",
       "    </tr>\n",
       "    \n",
       "    <tr>\n",
       "        <td class=\"t-cell\"><strong>r10:</strong></td>\n",
       "        <td class=\"reg-val\">0</td>\n",
       "    </tr>\n",
       "    \n",
       "    <tr>\n",
       "        <td class=\"t-cell\"><strong>r11:</strong></td>\n",
       "        <td class=\"reg-val\">0</td>\n",
       "    </tr>\n",
       "    \n",
       "    <tr>\n",
       "        <td class=\"t-cell\"><strong>r12:</strong></td>\n",
       "        <td class=\"reg-val\">0</td>\n",
       "    </tr>\n",
       "    \n",
       "</table>"
      ]
     },
     "metadata": {},
     "output_type": "display_data"
    }
   ],
   "source": [
    ">>> show registers"
   ]
  },
  {
   "cell_type": "markdown",
   "id": "3cfee8a9-6b59-468f-8e41-e33bf0745d10",
   "metadata": {},
   "source": [
    "You can select a subset of registers to display using the \\[...\\] array syntax. "
   ]
  },
  {
   "cell_type": "code",
   "execution_count": 4,
   "id": "b1f8fbd8-bd5b-4439-968e-f17c780d5477",
   "metadata": {},
   "outputs": [
    {
     "data": {
      "text/html": [
       "\n",
       "<style>\n",
       "    table { border-collapse: collapse; }\n",
       "    td {\n",
       "        border-bottom: solid 1px black !important;\n",
       "        border-top: solid 1px black !important;  \n",
       "    }\n",
       "</style>\n",
       "<h4>Registers:</h4>\n",
       "<table>\n",
       "    \n",
       "    <tr>\n",
       "        <td class=\"t-cell\"><strong>r0:</strong></td>\n",
       "        <td class=\"reg-val\">1</td>\n",
       "    </tr>\n",
       "    \n",
       "    <tr>\n",
       "        <td class=\"t-cell\"><strong>r1:</strong></td>\n",
       "        <td class=\"reg-val\">0</td>\n",
       "    </tr>\n",
       "    \n",
       "    <tr>\n",
       "        <td class=\"t-cell\"><strong>r2:</strong></td>\n",
       "        <td class=\"reg-val\">0</td>\n",
       "    </tr>\n",
       "    \n",
       "    <tr>\n",
       "        <td class=\"t-cell\"><strong>r3:</strong></td>\n",
       "        <td class=\"reg-val\">0</td>\n",
       "    </tr>\n",
       "    \n",
       "</table>"
      ]
     },
     "metadata": {},
     "output_type": "display_data"
    }
   ],
   "source": [
    ">>> show registers[0-3]"
   ]
  },
  {
   "cell_type": "markdown",
   "id": "19f5633e-238a-489e-9a82-12f595ac3437",
   "metadata": {},
   "source": [
    "You can also use special shortcuts to select special registers:\n",
    "\n",
    "|Register|Shortcut|\n",
    "|---------|-------|\n",
    "| Stack Pointer | sp |\n",
    "| Link Register | lr |\n",
    "| Program Counter | pc |"
   ]
  },
  {
   "cell_type": "code",
   "execution_count": 5,
   "id": "5754614d-5eea-420a-8f81-1bc4a7b47e42",
   "metadata": {},
   "outputs": [
    {
     "data": {
      "text/html": [
       "\n",
       "<style>\n",
       "    table { border-collapse: collapse; }\n",
       "    td {\n",
       "        border-bottom: solid 1px black !important;\n",
       "        border-top: solid 1px black !important;  \n",
       "    }\n",
       "</style>\n",
       "<h4>Registers:</h4>\n",
       "<table>\n",
       "    \n",
       "    <tr>\n",
       "        <td class=\"t-cell\"><strong>sp:</strong></td>\n",
       "        <td class=\"reg-val\">1048576</td>\n",
       "    </tr>\n",
       "    \n",
       "</table>"
      ]
     },
     "metadata": {},
     "output_type": "display_data"
    }
   ],
   "source": [
    ">>> show registers[sp]"
   ]
  },
  {
   "cell_type": "markdown",
   "id": "35955aa1-4052-4ec9-a6c7-e3e4837feb97",
   "metadata": {},
   "source": [
    "You can even modify the base of the results using the *as (dec|hex|bin)* syntax:"
   ]
  },
  {
   "cell_type": "code",
   "execution_count": 6,
   "id": "d2ce152c-461e-4f6d-abb0-0342081cc6c4",
   "metadata": {},
   "outputs": [
    {
     "data": {
      "text/html": [
       "\n",
       "<style>\n",
       "    table { border-collapse: collapse; }\n",
       "    td {\n",
       "        border-bottom: solid 1px black !important;\n",
       "        border-top: solid 1px black !important;  \n",
       "    }\n",
       "</style>\n",
       "<h4>Registers:</h4>\n",
       "<table>\n",
       "    \n",
       "    <tr>\n",
       "        <td class=\"t-cell\"><strong>r0:</strong></td>\n",
       "        <td class=\"reg-val\">0x1</td>\n",
       "    </tr>\n",
       "    \n",
       "    <tr>\n",
       "        <td class=\"t-cell\"><strong>r1:</strong></td>\n",
       "        <td class=\"reg-val\">0x0</td>\n",
       "    </tr>\n",
       "    \n",
       "    <tr>\n",
       "        <td class=\"t-cell\"><strong>r2:</strong></td>\n",
       "        <td class=\"reg-val\">0x0</td>\n",
       "    </tr>\n",
       "    \n",
       "</table>"
      ]
     },
     "metadata": {},
     "output_type": "display_data"
    }
   ],
   "source": [
    ">>> show registers[0-2] as hex"
   ]
  },
  {
   "cell_type": "markdown",
   "id": "b9327be2-77d7-497a-9972-f9b605eadf0a",
   "metadata": {},
   "source": [
    "There are many more show commands to inspect things like the stack, memory, etc, but we will learn them as we go!"
   ]
  },
  {
   "cell_type": "markdown",
   "id": "f7505db2-661c-421b-a909-27a6067da142",
   "metadata": {
    "jp-MarkdownHeadingCollapsed": true,
    "tags": []
   },
   "source": [
    "### Cumulative Runs 🏃"
   ]
  },
  {
   "cell_type": "markdown",
   "id": "0dea6a49-8070-4387-acd5-4a3e8a274391",
   "metadata": {
    "tags": []
   },
   "source": [
    "This is a very important concept to understand! Code runs in this notebook are **cumulative**. You can run the code in the boxes as many times as you want, and each run will have a cumulative effect on the processor. The best way to understand this is to try it out.\n",
    "\n",
    "Run the code in the box below several times. You can do this by clicking the box, running it (use the play button or press *Shift + Enter*), and then repeating."
   ]
  },
  {
   "cell_type": "code",
   "execution_count": 7,
   "id": "b5fd6a0d-85b9-4daa-bc69-04afcbb03fa4",
   "metadata": {},
   "outputs": [
    {
     "data": {
      "text/html": [
       "\n",
       "<style>\n",
       "    table { border-collapse: collapse; }\n",
       "    td {\n",
       "        border-bottom: solid 1px black !important;\n",
       "        border-top: solid 1px black !important;  \n",
       "    }\n",
       "</style>\n",
       "<h4>Registers:</h4>\n",
       "<table>\n",
       "    \n",
       "    <tr>\n",
       "        <td class=\"t-cell\"><strong>r0:</strong></td>\n",
       "        <td class=\"reg-val\">4</td>\n",
       "    </tr>\n",
       "    \n",
       "</table>"
      ]
     },
     "metadata": {},
     "output_type": "display_data"
    }
   ],
   "source": [
    "add r0, #1\n",
    ">>> show registers[0]"
   ]
  },
  {
   "cell_type": "markdown",
   "id": "ee3189c6-4116-4fc8-81d0-c89c7da6913c",
   "metadata": {},
   "source": [
    "You will notice that each time you run the box above, the contents of **register 0** change: we add 1 each time. This is what we mean by *cumulative effects*. \n",
    "\n",
    "Depending on the situation, this might not be what you want. You can resolve this by resetting the register contents at the beginning of a block:"
   ]
  },
  {
   "cell_type": "code",
   "execution_count": 8,
   "id": "469e0d9b-10fa-4a11-9988-8f5e4fd7f9f9",
   "metadata": {},
   "outputs": [
    {
     "data": {
      "text/html": [
       "\n",
       "<style>\n",
       "    table { border-collapse: collapse; }\n",
       "    td {\n",
       "        border-bottom: solid 1px black !important;\n",
       "        border-top: solid 1px black !important;  \n",
       "    }\n",
       "</style>\n",
       "<h4>Registers:</h4>\n",
       "<table>\n",
       "    \n",
       "    <tr>\n",
       "        <td class=\"t-cell\"><strong>r0:</strong></td>\n",
       "        <td class=\"reg-val\">1</td>\n",
       "    </tr>\n",
       "    \n",
       "</table>"
      ]
     },
     "metadata": {},
     "output_type": "display_data"
    }
   ],
   "source": [
    "mov r0, #0\n",
    "add r0, #1\n",
    ">>> show registers[0]"
   ]
  },
  {
   "cell_type": "markdown",
   "id": "d13b80ef-8ca5-4b19-acc9-09746cd38297",
   "metadata": {},
   "source": [
    "Now no matter how many times we run the code block, the result is always the same."
   ]
  },
  {
   "cell_type": "markdown",
   "id": "32d42409-e02c-4625-88d4-65164ae56789",
   "metadata": {
    "jp-MarkdownHeadingCollapsed": true,
    "tags": []
   },
   "source": [
    "### Resetting the Processor 🔁"
   ]
  },
  {
   "attachments": {
    "23ba1c3f-23fc-4c6f-977f-1d975f2806b8.png": {
     "image/png": "[encoded data removed]"
    },
    "9cc27bff-d217-46c7-b2dd-0e58873747dc.png": {
     "image/png": "[encoded data removed]"
    },
    "de2ed9ab-b71b-4ccb-8761-b730044b9822.png": {
     "image/png": "[encoded data removed]"
    },
    "fae87764-1daf-4c2d-9586-0c8974d190ab.png": {
     "image/png": "[encoded data removed]"
    }
   },
   "cell_type": "markdown",
   "id": "7fcb6a51-5bab-401f-ba77-dc68d7d0ed92",
   "metadata": {
    "tags": []
   },
   "source": [
    "This environment is designed to encourage play and experimentation with an ARM processor.There are times in which you might want to start on a clean slate. You might have messed up the state, or simply want to redo something and are not willing to use ARM commands to reset the processor to an earlier state. The emulation is also not bug free, and so there are occassions in which a reset might be necessary to continue using the notebook.\n",
    "\n",
    "Jupyter lab offers two buttons to reset the \"kernel\" ie. the emulated processor: \n",
    "\n",
    "![image.png](attachment:23ba1c3f-23fc-4c6f-977f-1d975f2806b8.png)\n",
    "\n",
    "These can be found at the top of the notebook, just below the tab:\n",
    "\n",
    "![image.png](attachment:9cc27bff-d217-46c7-b2dd-0e58873747dc.png)\n",
    "\n",
    "![image.png](attachment:de2ed9ab-b71b-4ccb-8761-b730044b9822.png) will reset the processor, giving you a clean slate to continue playing with.\n",
    "\n",
    "![image.png](attachment:fae87764-1daf-4c2d-9586-0c8974d190ab.png) will reset the processor AND run all the cells one time in order."
   ]
  },
  {
   "cell_type": "markdown",
   "id": "f9668900-4b1b-4bc1-8cfa-20533026371a",
   "metadata": {
    "jp-MarkdownHeadingCollapsed": true,
    "tags": []
   },
   "source": [
    "## Sample Programs 👩‍💻"
   ]
  },
  {
   "cell_type": "markdown",
   "id": "789c04ad-34f3-42be-ab6b-1cef1a831969",
   "metadata": {},
   "source": [
    "Best way to learn is by doing! Here are some examples that demonstrate the usage of several features of the notebook. Happy coding!"
   ]
  },
  {
   "cell_type": "markdown",
   "id": "afc45a7e-8d79-436f-b02b-624eb2b325f5",
   "metadata": {
    "jp-MarkdownHeadingCollapsed": true,
    "tags": []
   },
   "source": [
    "### Loops and Labels ➿"
   ]
  },
  {
   "cell_type": "markdown",
   "id": "029fbf70-11ee-4f29-9d26-7ef07cea1467",
   "metadata": {},
   "source": [
    "Labels and branching are a key aspect of ARM assembly, allowing you to program logic, loops, and even subroutines!\n",
    "\n",
    "**Important**: Labels in this notebook are only accessible inside the block they are declared in. You will not be able to access labels across blocks. "
   ]
  },
  {
   "cell_type": "code",
   "execution_count": 36,
   "id": "52ba8cb3-f3e4-41bd-9221-8d3860da7d23",
   "metadata": {},
   "outputs": [
    {
     "data": {
      "text/html": [
       "\n",
       "<style>\n",
       "    table { border-collapse: collapse; }\n",
       "    td {\n",
       "        border-bottom: solid 1px black !important;\n",
       "        border-top: solid 1px black !important;  \n",
       "    }\n",
       "</style>\n",
       "<h4>Registers:</h4>\n",
       "<table>\n",
       "    \n",
       "    <tr>\n",
       "        <td class=\"t-cell\"><strong>r3:</strong></td>\n",
       "        <td class=\"reg-val\">1</td>\n",
       "    </tr>\n",
       "    \n",
       "</table>"
      ]
     },
     "metadata": {},
     "output_type": "display_data"
    }
   ],
   "source": [
    "    // Fibonacci Sequence\n",
    "    mov r0, #0 // n\n",
    "    mov r1, #1 // n+1\n",
    "    mov r2, #1 // counter (n fibonacci number)\n",
    "    mov r3, #0 // result\n",
    "\n",
    "    cmp r2, #0\n",
    "    beq end\n",
    "    cmp r2, #1\n",
    "    moveq r3, #1\n",
    "    beq end\n",
    "\n",
    "for:\n",
    "    cmp r2, #2\n",
    "    beq endfor\n",
    "    add r3, r1, r0\n",
    "    mov r0, r1\n",
    "    mov r1, r3\n",
    "    sub r2, #1\n",
    "    b for\n",
    "\n",
    "endfor:\n",
    "    mov r3, r1\n",
    "\n",
    "end:\n",
    "\n",
    ">>> show registers[3]"
   ]
  },
  {
   "cell_type": "markdown",
   "id": "d82d04c5-892c-458a-a455-511d8a8a8946",
   "metadata": {
    "jp-MarkdownHeadingCollapsed": true,
    "tags": []
   },
   "source": [
    "### Stacks 🗼"
   ]
  },
  {
   "cell_type": "markdown",
   "id": "47df1347-2b6d-4dfd-9fd5-232a0f038134",
   "metadata": {},
   "source": [
    "We can see the stack using the ```show stack``` syntax."
   ]
  },
  {
   "cell_type": "code",
   "execution_count": 38,
   "id": "5af20363-45fe-4c62-8801-df25e489a62c",
   "metadata": {},
   "outputs": [
    {
     "data": {
      "text/html": [
       "\n",
       "<h4>Stack:</h4>\n",
       "<table>\n",
       "<tr>\n",
       "    <th>Address</th>\n",
       "    <th>Content</th>\n",
       "    <th>SP</th>\n",
       "</tr>\n",
       "<tr>\n",
       "    <td>0x100000</td>\n",
       "    <td>Bottom</td>\n",
       "    <td>\n",
       "        \n",
       "        <em>&larr;</em>\n",
       "        \n",
       "    </td>\n",
       "</tr>\n",
       "<tr\n",
       "\n",
       "</table>"
      ]
     },
     "metadata": {},
     "output_type": "display_data"
    }
   ],
   "source": [
    ">>> show stack"
   ]
  },
  {
   "cell_type": "markdown",
   "id": "1f453b29-c36f-4123-8843-a0b15ec8c8af",
   "metadata": {},
   "source": [
    "Lets push some stuff into the stack and see the effect:"
   ]
  },
  {
   "cell_type": "code",
   "execution_count": 41,
   "id": "4da73291-c6af-4dca-bfaf-efa7f335a1ae",
   "metadata": {},
   "outputs": [
    {
     "data": {
      "text/html": [
       "\n",
       "<h4>Stack:</h4>\n",
       "<table>\n",
       "<tr>\n",
       "    <th>Address</th>\n",
       "    <th>Content</th>\n",
       "    <th>SP</th>\n",
       "</tr>\n",
       "<tr>\n",
       "    <td>0x100000</td>\n",
       "    <td>Bottom</td>\n",
       "    <td>\n",
       "        \n",
       "    </td>\n",
       "</tr>\n",
       "<tr\n",
       "\n",
       "    <tr>\n",
       "        <td>0xffffc</td>\n",
       "        <td>0x3</td>\n",
       "        <td>\n",
       "            \n",
       "        </td>\n",
       "    </tr>\n",
       "\n",
       "    <tr>\n",
       "        <td>0xffff8</td>\n",
       "        <td>0x2</td>\n",
       "        <td>\n",
       "            \n",
       "        </td>\n",
       "    </tr>\n",
       "\n",
       "    <tr>\n",
       "        <td>0xffff4</td>\n",
       "        <td>0x1</td>\n",
       "        <td>\n",
       "            \n",
       "            <em>&larr;</em>\n",
       "            \n",
       "        </td>\n",
       "    </tr>\n",
       "\n",
       "</table>"
      ]
     },
     "metadata": {},
     "output_type": "display_data"
    }
   ],
   "source": [
    "mov r1, #1\n",
    "mov r2, #2\n",
    "mov r3, #3\n",
    "push {r1 - r3}\n",
    "\n",
    ">>> show stack as hex"
   ]
  },
  {
   "cell_type": "code",
   "execution_count": 42,
   "id": "7eebb13c-9719-4888-9ee5-de8bb0586224",
   "metadata": {},
   "outputs": [
    {
     "data": {
      "text/html": [
       "\n",
       "<h4>Stack:</h4>\n",
       "<table>\n",
       "<tr>\n",
       "    <th>Address</th>\n",
       "    <th>Content</th>\n",
       "    <th>SP</th>\n",
       "</tr>\n",
       "<tr>\n",
       "    <td>0x100000</td>\n",
       "    <td>Bottom</td>\n",
       "    <td>\n",
       "        \n",
       "        <em>&larr;</em>\n",
       "        \n",
       "    </td>\n",
       "</tr>\n",
       "<tr\n",
       "\n",
       "</table>"
      ]
     },
     "metadata": {},
     "output_type": "display_data"
    }
   ],
   "source": [
    "pop {r1 - r3}\n",
    "\n",
    ">>> show stack as hex"
   ]
  },
  {
   "cell_type": "markdown",
   "id": "474e8f4c-c5aa-4831-8585-6f6b573ed149",
   "metadata": {
    "jp-MarkdownHeadingCollapsed": true,
    "tags": []
   },
   "source": [
    "### Flags 🚩"
   ]
  },
  {
   "cell_type": "markdown",
   "id": "62a8de66-6fe9-4666-9a80-9325d498482e",
   "metadata": {},
   "source": [
    "Status flags are an important part of ARM Assembly programming. A good example are the NZCV flags. We know it can be tricky to figure out how they work. Why dont you experiment a little with them?"
   ]
  },
  {
   "cell_type": "code",
   "execution_count": 52,
   "id": "af66af1e-8878-4c0e-a419-814175b6f5b4",
   "metadata": {},
   "outputs": [
    {
     "data": {
      "text/html": [
       "\n",
       "<h4>NZCV Flags</h4>\n",
       "<table>\n",
       "<tr>\n",
       "    <th>N</th><th>Z</th><th>C</th><th>V</th>\n",
       "</tr>\n",
       "<tr>\n",
       "    <td>0</td>\n",
       "    <td>1</td>\n",
       "    <td>0</td>\n",
       "    <td>0</td>\n",
       "</tr>\n",
       "</table>"
      ]
     },
     "metadata": {},
     "output_type": "display_data"
    }
   ],
   "source": [
    "// Try to turn on each flag individually\n",
    "\n",
    "movs r0, #0\n",
    ">>> show nzcv"
   ]
  },
  {
   "cell_type": "markdown",
   "id": "0c6a2b4f-b677-4be5-a46e-e7e82879dc7a",
   "metadata": {
    "jp-MarkdownHeadingCollapsed": true,
    "tags": []
   },
   "source": [
    "### Memory 🧠"
   ]
  },
  {
   "cell_type": "markdown",
   "id": "ddd6b41f-c10d-47aa-a9a7-5fe7069f0ee8",
   "metadata": {},
   "source": [
    "Managing memory can be tricky. In this notebook we use a specialized syntax to initialize memory and abstract most of the complexity from the user. For this we use YAML! If you are not familiar with YAML, it might be worth it to take a look at the official documentation, although it is very easy to pick up 😄.\n",
    "\n",
    "We will use a special ```__config___``` block. Config blocks must start with the *__config__* keyword, for example:"
   ]
  },
  {
   "cell_type": "code",
   "execution_count": 53,
   "id": "e052d57a-47f5-4609-a79f-da121d3eecbd",
   "metadata": {},
   "outputs": [
    {
     "data": {
      "text/html": [
       "<p>-- kernel configured successfully --</p>"
      ]
     },
     "metadata": {},
     "output_type": "display_data"
    }
   ],
   "source": [
    "__config__\n",
    "memory: # Config relating to the memory.\n",
    "    items: # Specific items that will be automatically mapped to memory.\n",
    "        label1:               # This is the label through which you can access the specified memory item.\n",
    "            type: word        # Type of each element (word | hword | byte | int | space)\n",
    "            access: ro        # Access permissions: ro - read-only; rw - read-write\n",
    "            size: 3           # Size of memory block (if left blank then the size will be calculated from the content)\n",
    "            content: [1,2,3]  # Contents. Can be a list of items or a single item"
   ]
  },
  {
   "cell_type": "code",
   "execution_count": 55,
   "id": "ba2ca899-d4d4-4573-a39a-54cf0e56ac8a",
   "metadata": {},
   "outputs": [
    {
     "data": {
      "text/html": [
       "\n",
       "<style>\n",
       "    table { border-collapse: collapse; }\n",
       "    td {\n",
       "        border-bottom: solid 1px black !important;\n",
       "        border-top: solid 1px black !important;  \n",
       "    }\n",
       "</style>\n",
       "<h4>Registers:</h4>\n",
       "<table>\n",
       "    \n",
       "    <tr>\n",
       "        <td class=\"t-cell\"><strong>r0:</strong></td>\n",
       "        <td class=\"reg-val\">0x580000</td>\n",
       "    </tr>\n",
       "    \n",
       "    <tr>\n",
       "        <td class=\"t-cell\"><strong>r1:</strong></td>\n",
       "        <td class=\"reg-val\">0x1</td>\n",
       "    </tr>\n",
       "    \n",
       "    <tr>\n",
       "        <td class=\"t-cell\"><strong>r2:</strong></td>\n",
       "        <td class=\"reg-val\">0x2</td>\n",
       "    </tr>\n",
       "    \n",
       "</table>"
      ]
     },
     "metadata": {},
     "output_type": "display_data"
    }
   ],
   "source": [
    "ldr r0, =label1\n",
    "ldr r1, [r0]\n",
    "ldr r2, [r0, #4]\n",
    "\n",
    ">>> show registers[0-2] as hex"
   ]
  },
  {
   "cell_type": "markdown",
   "id": "616eb409-096c-4508-92ce-cd596c745f18",
   "metadata": {},
   "source": [
    "Memory can also be inspected through *show* commands.\n",
    "\n",
    "- ```show mem[<label>] as hex``` will show the item <label> divided into words as hex\n",
    "- ```show memh[<label>] as dec``` will show the item <label> divided into half-words\n",
    "- ```show memb[<label>] as hex``` will show the item <label> divided into individual bytes"
   ]
  },
  {
   "cell_type": "code",
   "execution_count": 58,
   "id": "c5a7d9bd-1ab2-43c6-82d3-59dee1d20a77",
   "metadata": {},
   "outputs": [
    {
     "data": {
      "text/html": [
       "\n",
       "<h4>Memory:</h4>\n",
       "<table>\n",
       "<tr>\n",
       "    <th>Address</th>\n",
       "    <th>Content</th>\n",
       "</tr>\n",
       "<tr\n",
       "\n",
       "    <tr>\n",
       "        <td>0x580000</td>\n",
       "        \n",
       "        <td>0x1</td>\n",
       "        \n",
       "        <td>0x0</td>\n",
       "        \n",
       "        <td>0x0</td>\n",
       "        \n",
       "        <td>0x0</td>\n",
       "        \n",
       "    </tr>\n",
       "\n",
       "    <tr>\n",
       "        <td>0x580004</td>\n",
       "        \n",
       "        <td>0x2</td>\n",
       "        \n",
       "        <td>0x0</td>\n",
       "        \n",
       "        <td>0x0</td>\n",
       "        \n",
       "        <td>0x0</td>\n",
       "        \n",
       "    </tr>\n",
       "\n",
       "    <tr>\n",
       "        <td>0x580008</td>\n",
       "        \n",
       "        <td>0x3</td>\n",
       "        \n",
       "        <td>0x0</td>\n",
       "        \n",
       "        <td>0x0</td>\n",
       "        \n",
       "        <td>0x0</td>\n",
       "        \n",
       "    </tr>\n",
       "\n",
       "</table>"
      ]
     },
     "metadata": {},
     "output_type": "display_data"
    }
   ],
   "source": [
    ">>> show memb[label1] as hex"
   ]
  },
  {
   "cell_type": "markdown",
   "id": "0ebc4340-b2c4-4b95-8b25-54b8aafb3187",
   "metadata": {},
   "source": [
    "**Note**: While config blocks can be placed anywhere in the notebook, we recommend to place them at the top of the notebook so that the configuration is available from the very beginning. Also remember that config blocks must be **run** for them to take effect."
   ]
  }
 ],
 "metadata": {
  "kernelspec": {
   "display_name": "ARM",
   "language": "ARM Assembly",
   "name": "arm"
  },
  "language_info": {
   "file_extension": ".txt",
   "mimetype": "text/html",
   "name": "Any text"
  }
 },
 "nbformat": 4,
 "nbformat_minor": 5
}
